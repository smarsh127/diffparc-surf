{
 "cells": [
  {
   "cell_type": "code",
   "execution_count": 110,
   "metadata": {},
   "outputs": [],
   "source": [
    "from nilearn.plotting import plot_roi, plot_anat, find_cut_slices\n",
    "import matplotlib.pyplot as plt\n",
    "#plot_roi(snakemake.input.mask,snakemake.input.b0,display_mode='tiled',dim=-1)\n",
    "\n",
    "nii = nib.load(snakemake.input.b0)\n",
    "imshape = nii.header.get_data_shape()\n",
    "zooms = nii.header.get_zooms()\n",
    "\n",
    "imdim_mm = np.multiply(imshape,zooms)\n",
    "\n",
    "#print(imshape)\n",
    "#print(zooms)\n",
    "#print(imdim_mm)\n",
    "\n",
    "#create\n",
    "n_cuts=10\n",
    "\n",
    "#x_cuts = find_cut_slices(snakemake.input.mask,direction='y',n_cuts=n_cuts,spacing='auto')\n",
    "y_cuts = np.linspace(-imdim_mm[1]/2,imdim_mm[1]/2,n_cuts+4)#,imdim_mm/n_cuts)\n",
    "y_cuts = y_cuts[2:-2]\n",
    "\n",
    "#print(y_cuts)\n",
    "\n",
    "fig = plt.figure(figsize=(30, 3), facecolor='k')\n",
    "display = plot_anat(snakemake.input.b0,figure=fig,dim=-1,cut_coords=y_cuts,display_mode='y')\n",
    "display.add_contours(snakemake.input.mask,levels=[0.5],colors='r')\n",
    "display.savefig(snakemake.output.png)\n",
    "display.close()"
   ]
  },
  {
   "cell_type": "code",
   "execution_count": 34,
   "metadata": {},
   "outputs": [],
   "source": [
    "from nilearn import plotting    \n",
    "html_view = plotting.view_img(stat_map_img=snakemake.input.mask,bg_img=snakemake.input.b0,\n",
    "                              opacity=0.5,cmap='viridis',dim=-1,\n",
    "                              resampling_interpolation='nearest',\n",
    "                              symmetric_cmap=False,title='sub-{subject}'.format(**snakemake.wildcards))     \n"
   ]
  },
  {
   "cell_type": "code",
   "execution_count": 13,
   "metadata": {},
   "outputs": [],
   "source": [
    "html_view.save_as_html(snakemake.output.html) "
   ]
  },
  {
   "cell_type": "code",
   "execution_count": 32,
   "metadata": {},
   "outputs": [],
   "source": [
    "html_view"
   ]
  },
  {
   "cell_type": "code",
   "execution_count": null,
   "metadata": {},
   "outputs": [],
   "source": []
  }
 ],
 "metadata": {
  "kernelspec": {
   "display_name": "Python 3",
   "language": "python",
   "name": "python3"
  },
  "language_info": {
   "codemirror_mode": {
    "name": "ipython",
    "version": 3
   },
   "file_extension": ".py",
   "mimetype": "text/x-python",
   "name": "python",
   "nbconvert_exporter": "python",
   "pygments_lexer": "ipython3",
   "version": "3.7.4"
  }
 },
 "nbformat": 4,
 "nbformat_minor": 4
}
